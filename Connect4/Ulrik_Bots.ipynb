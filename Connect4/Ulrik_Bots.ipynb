{
 "cells": [
  {
   "cell_type": "code",
   "execution_count": 57,
   "id": "ba625588",
   "metadata": {},
   "outputs": [],
   "source": [
    "%run \"Connect4.py\"\n",
    "%run \"morad.py\"\n",
    "%run \"Filip Bots.py\""
   ]
  },
  {
   "cell_type": "code",
   "execution_count": 2,
   "id": "a761ddd4",
   "metadata": {},
   "outputs": [],
   "source": [
    "def cat(board, player, last_move):\n",
    "    # do the same move as last time, and if that is not possible, do a random move\n",
    "    if last_move and board[0][last_move] == 0:\n",
    "        return last_move\n",
    "    else:\n",
    "        while True:\n",
    "            action = random.randint(0, 6)\n",
    "            if board[0][action] == 0:\n",
    "                return action"
   ]
  },
  {
   "cell_type": "code",
   "execution_count": 3,
   "id": "84753c66",
   "metadata": {},
   "outputs": [],
   "source": [
    "def gravity(board, player, last_move):\n",
    "    # always fill the lowest column, randomize between the lowest columns if there are multiple\n",
    "    # first find the lowest columns\n",
    "    # keep in mind that the board is upside down\n",
    "    lowest = 0\n",
    "\n",
    "    for i in range(7):\n",
    "        for j in range(6):\n",
    "            if board[j][i] == 0:\n",
    "                if j > lowest:\n",
    "                    lowest = j\n",
    "    lowest_columns = []\n",
    "    # we know that lowest is the lowest row that is empty\n",
    "\n",
    "    for i in range(7):\n",
    "        if board[lowest][i] == 0:\n",
    "            lowest_columns.append(i)\n",
    "    return random.choice(lowest_columns)"
   ]
  },
  {
   "cell_type": "code",
   "execution_count": 4,
   "id": "2f94bd1d",
   "metadata": {},
   "outputs": [],
   "source": [
    "def gotcha(board, player, last_move):\n",
    "    # check if a move can be made that will win the game\n",
    "    # if not, check if a move can be made that will prevent the opponent from winning the game\n",
    "    # if not, do a random move\n",
    "\n",
    "    # check if a move can be made that will win the game\n",
    "    for action in range(7):\n",
    "        if board[0][action] != 0:\n",
    "            continue\n",
    "\n",
    "        board_copy = board.copy()\n",
    "        for i in range(5, -1, -1):\n",
    "            if board_copy[i][action] == 0:\n",
    "                board_copy[i][action] = player\n",
    "                break\n",
    "        if check_winner(board_copy) == player:\n",
    "            return action\n",
    "\n",
    "    # check if a move can be made that will prevent the opponent from winning the game\n",
    "    bad_actions = []\n",
    "    for action in range(7):\n",
    "        if board[0][action] != 0:\n",
    "            continue\n",
    "\n",
    "        board_copy = board.copy()\n",
    "        for i in range(5, -1, -1):\n",
    "            if board_copy[i][action] == 0:\n",
    "                board_copy[i][action] = player\n",
    "                break\n",
    "\n",
    "        # now we have played the action on the copy of the board, and check if the opponent can win\n",
    "        for challenge_action in range(7):\n",
    "            if board_copy[0][challenge_action] != 0:\n",
    "                continue\n",
    "\n",
    "            board_copy2 = board_copy.copy()\n",
    "            for i in range(5, -1, -1):\n",
    "                if board_copy2[i][challenge_action] == 0:\n",
    "                    board_copy2[i][challenge_action] = 3 - player\n",
    "                    break\n",
    "\n",
    "            if check_winner(board_copy2) == 3 - player:\n",
    "                bad_actions.append(action)\n",
    "                break\n",
    "\n",
    "    good_actions = []\n",
    "    for i in range(7):\n",
    "        if i not in bad_actions and board[0][i] == 0:\n",
    "            good_actions.append(i)\n",
    "\n",
    "    if len(good_actions) > 0:\n",
    "        return random.choice(good_actions)\n",
    "    else:\n",
    "        while True:\n",
    "            action = random.randint(0, 6)\n",
    "            if board[0][action] == 0:\n",
    "                return action"
   ]
  },
  {
   "cell_type": "code",
   "execution_count": 5,
   "id": "04e51b16",
   "metadata": {},
   "outputs": [
    {
     "data": {
      "text/plain": [
       "0"
      ]
     },
     "execution_count": 5,
     "metadata": {},
     "output_type": "execute_result"
    }
   ],
   "source": [
    "@njit\n",
    "def check_n_in_row(board, n = 3):\n",
    "    # returns 0 if no winner, 1 if player 1 won, 2 if player 2 won\n",
    "\n",
    "    # check horizontal\n",
    "    for i in range(6):\n",
    "        for j in range(7 - n + 1):\n",
    "            if board[i][j] != 0:\n",
    "                for k in range(1, n):\n",
    "                    if board[i][j] != board[i][j + k]:\n",
    "                        break\n",
    "                else:\n",
    "                    return board[i][j]\n",
    "\n",
    "    # check vertical\n",
    "    for i in range(6 - n + 1):\n",
    "        for j in range(7):\n",
    "            if board[i][j] != 0:\n",
    "                for k in range(1, n):\n",
    "                    if board[i][j] != board[i + k][j]:\n",
    "                        break\n",
    "                else:\n",
    "                    return board[i][j]\n",
    "\n",
    "    # check diagonal\n",
    "    for i in range(6 - n + 1):\n",
    "        for j in range(7 - n + 1):\n",
    "            if board[i][j] != 0:\n",
    "                for k in range(1, n):\n",
    "                    if board[i][j] != board[i + k][j + k]:\n",
    "                        break\n",
    "                else:\n",
    "                    return board[i][j]\n",
    "\n",
    "    # check other diagonal\n",
    "    for i in range(6 - n + 1):\n",
    "        for j in range(n - 1, 7):\n",
    "            if board[i][j] != 0:\n",
    "                for k in range(1, n):\n",
    "                    if board[i][j] != board[i + k][j - k]:\n",
    "                        break\n",
    "                else:\n",
    "                    return board[i][j]\n",
    "\n",
    "    return 0\n",
    "\n",
    "@njit\n",
    "def check_n_in_row_from_position(board,n,x,y):\n",
    "    # first we make each possible line of length n\n",
    "\n",
    "    lines = np.zeros((n,n), dtype=np.int64)\n",
    "    for i in range(n):\n",
    "        lines[i] = np.arange(n) - n + 1 + i\n",
    "    player = board[x][y]\n",
    "\n",
    "    rotations = np.array([[0,1],[1,1],[1,0],[1,-1]])\n",
    "    for rotation in rotations:\n",
    "        for line in lines:\n",
    "            new_line = np.zeros((n,2), dtype=np.int64)\n",
    "            for i in range(n):\n",
    "                new_line[i] = line[i] * rotation\n",
    "            new_line = new_line + np.array([x,y])\n",
    "\n",
    "            if np.any(new_line < 0):\n",
    "                continue\n",
    "            if np.any(new_line[:,0] > 5):\n",
    "                continue\n",
    "            if np.any(new_line[:,1] > 6):\n",
    "                continue\n",
    "\n",
    "            \n",
    "            for i in range(n):\n",
    "                if board[new_line[i][0]][new_line[i][1]] != player:\n",
    "                    break\n",
    "            else:\n",
    "                return player\n",
    "    return 0\n",
    "\n",
    "\n",
    "@njit\n",
    "def treebeard_search(board, player, depth):\n",
    "    if depth == 0:\n",
    "        return 0.5 # Todo: add a heuristic here\n",
    "    \n",
    "    scores = np.empty(7, dtype=np.float64)  # Pre-allocate a Numpy array for scores\n",
    "    num_scores = 0\n",
    "    \n",
    "    for action in range(7):\n",
    "        if board[0, action] != 0:\n",
    "            continue\n",
    "\n",
    "        # Create a copy of the board using Numpy's copy\n",
    "        board_copy = board.copy()\n",
    "        \n",
    "        for i in range(5, -1, -1):\n",
    "            if board_copy[i, action] == 0:\n",
    "                board_copy[i, action] = player\n",
    "                break\n",
    "        \n",
    "        if check_winner(board_copy)==player:\n",
    "            # print(player,\"wins after playing\",action,\"in depth\",depth)\n",
    "            return 8 * 2**(depth)\n",
    "        if 0 not in board_copy[0]:\n",
    "            # print(f\"draw after\", player, \"playing\",action,\"in depth\",depth)\n",
    "            return 1 * 2**(depth)\n",
    "        \n",
    "        scores[num_scores] = -treebeard_search(board_copy, 3 - player, depth - 1)\n",
    "        num_scores += 1\n",
    "    \n",
    "    # Calculate the average of scores and return the negative of it\n",
    "    if num_scores == 0:\n",
    "        return 0\n",
    "    return -np.mean(scores[:num_scores])\n",
    "\n",
    "def treebeard(board, player, last_move, depth = 5):\n",
    "    # looks ahead a certain number of moves and then chooses the move that will give the best outcome\n",
    "    # for each of the 7 possible moves, we look ahead a certain number of moves\n",
    "    # if we win, we add 2 to the score\n",
    "    # if we lose, we subtract 2 from the score\n",
    "    # if we draw, we add -0.5 to the score\n",
    "    # if there is no winner, we add 0.5\n",
    "    # overall, we want to maximize the score\n",
    "\n",
    "    scores = []\n",
    "    bad_actions = []\n",
    "    for first_move in range(7):\n",
    "        if board[0][first_move] != 0:\n",
    "            scores.append(-10)\n",
    "            bad_actions += [first_move]\n",
    "            continue\n",
    "        board_copy = board.copy()\n",
    "        for i in range(5, -1, -1):\n",
    "            if board_copy[i][first_move] == 0:\n",
    "                board_copy[i][first_move] = player\n",
    "                break\n",
    "            \n",
    "        if check_winner(board_copy) == player:\n",
    "            return first_move\n",
    "        \n",
    "        # now we have played the action on the copy of the board, and check if the opponent can win\n",
    "        challenger_win = False\n",
    "        for challenge_move in range(7):\n",
    "            if board_copy[0][challenge_move] != 0:\n",
    "                continue\n",
    "\n",
    "            board_copy2 = board_copy.copy()\n",
    "            for i in range(5, -1, -1):\n",
    "                if board_copy2[i][challenge_move] == 0:\n",
    "                    board_copy2[i][challenge_move] = 3 - player\n",
    "                    break\n",
    "\n",
    "            if check_winner(board_copy2) == 3 - player:\n",
    "                challenger_win = True\n",
    "                break\n",
    "\n",
    "        if challenger_win:\n",
    "            scores.append(-1000)\n",
    "            # bad_actions += [first_move]\n",
    "            continue\n",
    "        scores.append(treebeard_search(board_copy, 3 - player, depth))\n",
    "    \n",
    "    # we want to add a small score towards the middle, so it prioritizes the middle when no other moves are better\n",
    "    for i in range(7):\n",
    "        scores[i] -= 0.1 * abs(i - 3)\n",
    "\n",
    "    # check if the opponent can make any moves that will make any 3 in a row\n",
    "    # any such moves will get an additional +50% of the absolute value of the score so we have a greater incentive to block them\n",
    "\n",
    "    for challenge_move in range(7):\n",
    "        if board[0][challenge_move] != 0:\n",
    "            continue\n",
    "\n",
    "        board_copy = board.copy()\n",
    "        for i in range(5, -1, -1):\n",
    "            if board_copy[i][challenge_move] == 0:\n",
    "                board_copy[i][challenge_move] = 3 - player\n",
    "                break\n",
    "        \n",
    "        n = 3\n",
    "        x = challenge_move\n",
    "        y = i\n",
    "        \n",
    "        if check_n_in_row_from_position(board,n,y,x) == 0 and check_n_in_row_from_position(board_copy,n,y,x) == 3 - player:\n",
    "            scores[challenge_move] += 0.5 * abs(scores[challenge_move])\n",
    "\n",
    "    for challenge_move in range(7):\n",
    "        if board[0][challenge_move] != 0:\n",
    "            continue\n",
    "\n",
    "        board_copy = board.copy()\n",
    "        for i in range(5, -1, -1):\n",
    "            if board_copy[i][challenge_move] == 0:\n",
    "                board_copy[i][challenge_move] = 3 - player\n",
    "                break\n",
    "        \n",
    "        n = 2\n",
    "        x = challenge_move\n",
    "        y = i\n",
    "        \n",
    "        if check_n_in_row_from_position(board,n,y,x) == 0 and check_n_in_row_from_position(board_copy,n,y,x) == 3 - player:\n",
    "            scores[challenge_move] += 0.3 * abs(scores[challenge_move])\n",
    "\n",
    "    # next we want to negatively weight moves that columns that won't win the game even if we fill them completely\n",
    "    for move in range(7):\n",
    "        if board[0][move] != 0:\n",
    "            continue\n",
    "        board = board.copy()\n",
    "\n",
    "        while board[0][move] != 0:\n",
    "            for i in range(5, -1, -1):\n",
    "                if board_copy[i][move] == 0:\n",
    "                    board_copy[i][move] = player\n",
    "                    break\n",
    "\n",
    "        if check_winner(board_copy) != player:\n",
    "            scores[move] -= 0.9 * abs(scores[move])\n",
    "            \n",
    "    # sort the indexes 0-6 based on the scores\n",
    "            \n",
    "    indexes = np.argsort(scores)\n",
    "    for i in range(6,-1,-1):\n",
    "        if board[0][indexes[i]] == 0:\n",
    "            if len(bad_actions) < 7:\n",
    "                if indexes[i] in bad_actions:\n",
    "                    continue\n",
    "            # print(indexes[i])\n",
    "            return indexes[i]   \n",
    "\n",
    "\n",
    "# we need to fix this! It should weight a loss more than the draw\n",
    "        \n",
    "# weird: this position gives 0, although it should play 3 to prevent the opponent from winning\n",
    "board = [[0, 2, 2, 0, 0, 2, 0], [0, 1, 1, 2, 1, 1, 0], [2, 2, 2, 1, 2, 2, 2], [1, 1, 1, 2, 1, 1, 1], [2, 2, 1, 1, 1, 2, 1], [2, 2, 1, 1, 1, 2, 2]] #1\n",
    "board = np.array(board)\n",
    "# plot_board(board)\n",
    "treebeard(board, 1, 0)"
   ]
  },
  {
   "cell_type": "code",
   "execution_count": 6,
   "id": "1e46ff5c",
   "metadata": {},
   "outputs": [],
   "source": [
    "@njit\n",
    "def score_row(row):\n",
    "    # gets an array of length 4 and returns a score\n",
    "    # if there are +1 and -1, return 0\n",
    "    # if not, we return the number that's not 0 times 2**n where n is the number of 1s or -1s\n",
    "    # the array will never have 4 1s or -1s because then the game would be over\n",
    "\n",
    "    if np.all(row == 0):\n",
    "        return 0\n",
    "    \n",
    "    if np.all(row == 1):\n",
    "        return 2**5\n",
    "    \n",
    "    if np.all(row == -1):\n",
    "        return -2**5\n",
    "    \n",
    "    if 1 in row and -1 in row: \n",
    "        return 0\n",
    "    \n",
    "    if 1 in row:\n",
    "        return 2**np.sum(row == 1)\n",
    "    else:\n",
    "        return -2**np.sum(row == -1)\n",
    "\n",
    "@njit\n",
    "def evaluate_board(board):\n",
    "    # we find all the rows, columns and diagonals of length 4 and score them using the score_row function\n",
    "\n",
    "    score = 0\n",
    "    # first we do the rows\n",
    "    for i in range(6):\n",
    "        for j in range(4):\n",
    "            score += score_row(board[i][j:j+4])\n",
    "\n",
    "    # then we do the columns\n",
    "    for i in range(3):\n",
    "        for j in range(7):\n",
    "            score += score_row(board[i:i+4,j])\n",
    "\n",
    "    # then we do the diagonals\n",
    "    for i in range(3):\n",
    "        for j in range(4):\n",
    "            score += score_row(np.diag(board[i:i+4,j:j+4]))\n",
    "\n",
    "    for i in range(3):\n",
    "        for j in range(4):\n",
    "            score += score_row(np.diag(board[i:i+4, j:j+4][::-1, ::-1]))\n",
    "\n",
    "    return score"
   ]
  },
  {
   "cell_type": "code",
   "execution_count": 75,
   "id": "8ff4f395",
   "metadata": {},
   "outputs": [
    {
     "name": "stdout",
     "output_type": "stream",
     "text": [
      "1\n"
     ]
    }
   ],
   "source": [
    "@njit\n",
    "def legal_moves(board):\n",
    "    # returns a list of all legal moves\n",
    "    moves = np.empty(0, dtype=np.int64)\n",
    "    for i in range(7):\n",
    "        if board[0, i] == 0:\n",
    "            moves = np.append(moves, i)\n",
    "    return moves\n",
    "\n",
    "@njit\n",
    "def make_move(board, action, player):\n",
    "    # returns the board after the move has been made\n",
    "    board_copy = board.copy()\n",
    "    for i in range(5, -1, -1):\n",
    "        if board_copy[i, action] == 0:\n",
    "            board_copy[i, action] = player\n",
    "            break\n",
    "    return board_copy\n",
    "\n",
    "@njit\n",
    "def game_over(board):\n",
    "    # returns True if the game is over, False otherwise\n",
    "    if check_winner(board) != 0:\n",
    "        return True\n",
    "    if 0 not in board[0]:\n",
    "        return True\n",
    "    return False\n",
    "\n",
    "# @njit\n",
    "def alphabeta(board, depth, alpha, beta, maximizing_player, eval_func=evaluate_board):\n",
    "    if depth == 0 or game_over(board):\n",
    "        return eval_func(board)\n",
    "    # print(\"depth\", depth,\"alpha\", alpha, \"beta\", beta)\n",
    "    if maximizing_player:\n",
    "        max_eval = -np.inf\n",
    "        for move in legal_moves(board):\n",
    "            new_board = make_move(board, move, 1)\n",
    "            eval = alphabeta(new_board, depth - 1, alpha, beta, False)\n",
    "            max_eval = max(max_eval, eval)\n",
    "            alpha = max(alpha, eval)\n",
    "            if beta <= alpha:\n",
    "                break  # Beta cutoff\n",
    "        return max_eval\n",
    "    else:\n",
    "        min_eval = np.inf\n",
    "        for move in legal_moves(board):\n",
    "            new_board = make_move(board, move, -1)\n",
    "            eval = alphabeta(new_board, depth - 1, alpha, beta, True)\n",
    "            min_eval = min(min_eval, eval)\n",
    "            beta = min(beta, eval)\n",
    "            if beta <= alpha:\n",
    "                break  # Alpha cutoff\n",
    "        return min_eval\n",
    "\n",
    "\n",
    "def alphabeta_search(board_copy, depth, player, eval_func=evaluate_board):\n",
    "    # Set the initial alpha and beta values\n",
    "    alpha = -np.inf\n",
    "    beta = np.inf\n",
    "\n",
    "    # check for winning move before doing alphabeta\n",
    "    for move in legal_moves(board_copy):\n",
    "        # check if the player can win\n",
    "        new_board = make_move(board_copy, move, player)\n",
    "        if check_winner(new_board) == player:\n",
    "            return move\n",
    "        \n",
    "        # check that the opponent can't win next turn by doing the same move\n",
    "        # new_board = make_move(new_board, move, -player)\n",
    "\n",
    "    \n",
    "    # check for losing move before doing alphabeta\n",
    "    for move in legal_moves(board_copy):\n",
    "        new_board = make_move(board_copy, move, -player)\n",
    "        if check_winner(new_board) == -player:\n",
    "            return move\n",
    "\n",
    "    # Find the best move using the alphabeta algorithm\n",
    "    best_move = None\n",
    "    for move in legal_moves(board_copy):\n",
    "        new_board = make_move(board_copy, move, player)\n",
    "\n",
    "        # Evaluate the current move using alphabeta\n",
    "        eval_score = alphabeta(new_board, depth - 1, alpha, beta, False, eval_func)\n",
    "\n",
    "        # Update the best move if needed\n",
    "        if eval_score > alpha:\n",
    "            alpha = eval_score\n",
    "            best_move = move\n",
    "\n",
    "    # If no winning move is found, return the best move or a random move\n",
    "    return best_move if best_move is not None else random.choice(legal_moves(board_copy))\n",
    "\n",
    "\n",
    "def alpha_4(board, player, last_move, eval_func = evaluate_ai):\n",
    "    # Create a copy of the board and convert player 2 to -1\n",
    "    board_copy = board.copy()\n",
    "    board_copy[board_copy == 2] = -1\n",
    "    player = 1 if player == 1 else -1   \n",
    "\n",
    "    # if player = -1, we swap the board so that the player is always 1\n",
    "    # if player == -1:\n",
    "    #     board_copy = -board_copy\n",
    "    #     player = 1\n",
    "    return alphabeta_search(board_copy, 4, player, eval_func)\n",
    "\n",
    "# play a game against random_bot (which compiles njit code)\n",
    "winner, start_player, moves_made = play_game(morad,alpha_4)\n",
    "print(winner)"
   ]
  },
  {
   "cell_type": "code",
   "execution_count": 59,
   "id": "947669db",
   "metadata": {},
   "outputs": [],
   "source": [
    "import copy\n",
    "\n",
    "def check_connect_four(board):\n",
    "    def check_line(line):\n",
    "        for i in range(len(line) - 3):\n",
    "            if line[i] == line[i + 1] == line[i + 2] == line[i + 3] and line[i] != 0:\n",
    "                return True\n",
    "        return False\n",
    "\n",
    "    def is_board_full():\n",
    "        return all(cell != 0 for row in board for cell in row)\n",
    "\n",
    "    def check_winner():\n",
    "        # Check horizontal lines\n",
    "        for row in board:\n",
    "            if check_line(row):\n",
    "                return True\n",
    "\n",
    "        # Check vertical lines\n",
    "        for col in range(len(board[0])):\n",
    "            if check_line([board[row][col] for row in range(len(board))]):\n",
    "                return True\n",
    "\n",
    "        # Check diagonal lines (from top-left to bottom-right)\n",
    "        for row in range(len(board) - 3):\n",
    "            for col in range(len(board[0]) - 3):\n",
    "                if check_line([board[row + i][col + i] for i in range(4)]):\n",
    "                    return True\n",
    "\n",
    "        # Check diagonal lines (from top-right to bottom-left)\n",
    "        for row in range(3, len(board)):\n",
    "            for col in range(len(board[0]) - 3):\n",
    "                if check_line([board[row - i][col + i] for i in range(4)]):\n",
    "                    return True\n",
    "\n",
    "        return False\n",
    "    if check_winner():\n",
    "        return True\n",
    "    \n",
    "    else:\n",
    "        return False\n",
    "\n",
    "def morad(board, player, last_move):\n",
    "    if last_move == None:\n",
    "        return 3\n",
    "\n",
    "    spill = Connect4()\n",
    "    spill.board = copy.deepcopy(board)\n",
    "    spill.player = player\n",
    "    original_board = copy.deepcopy(board)\n",
    "\n",
    "    my_dict = {}\n",
    "\n",
    "\n",
    "    for a in range(7):\n",
    "        my_dict[a]=0\n",
    "        spill.board = copy.deepcopy(original_board)\n",
    "        spill.player = player\n",
    "\n",
    "        if spill.board[0][a]==0:\n",
    "            \n",
    "            spill.play(a)\n",
    "\n",
    "            save = copy.deepcopy(spill.board)\n",
    "            if check_connect_four(spill.board):\n",
    "                return a\n",
    "\n",
    "        else:\n",
    "            continue\n",
    "        \n",
    "        for b in range(7):\n",
    "            # print(save)\n",
    "            spill.board = copy.deepcopy(save)\n",
    "            \n",
    "            spill.player = 3-player\n",
    "\n",
    "            if spill.board[0][b]==0:\n",
    "                spill.play(b)\n",
    "\n",
    "                save1 = copy.deepcopy(spill.board)\n",
    "                if check_connect_four(spill.board) and a!=b:\n",
    "                    return b\n",
    "\n",
    "\n",
    "    for a in range(7):\n",
    "        my_dict[a]=0\n",
    "        spill.board = copy.deepcopy(original_board)\n",
    "        spill.player = player\n",
    "\n",
    "        if spill.board[0][a]==0:\n",
    "            \n",
    "            spill.play(a)\n",
    "\n",
    "            save = copy.deepcopy(spill.board)\n",
    "\n",
    "        else:\n",
    "            continue\n",
    "        \n",
    "        for b in range(7):\n",
    "            # print(save)\n",
    "            spill.board = copy.deepcopy(save)\n",
    "            \n",
    "            spill.player = 3-player\n",
    "\n",
    "            if spill.board[0][b]==0:\n",
    "                spill.play(b)\n",
    "\n",
    "                save1 = copy.deepcopy(spill.board)\n",
    "\n",
    "            else:\n",
    "                continue\n",
    "            \n",
    "            for c in range(7):\n",
    "                spill.board = copy.deepcopy(save1)\n",
    "                spill.player = player\n",
    "\n",
    "                if spill.board[0][c]==0:\n",
    "                    spill.play(c)\n",
    "                    save2 = copy.deepcopy(spill.board)\n",
    "\n",
    "                    if check_connect_four(spill.board):\n",
    "                        my_dict[a]+=1\n",
    "                        continue\n",
    "                else:\n",
    "                    continue\n",
    "\n",
    "            \n",
    "                for d in range(7):\n",
    "                    spill.board = copy.deepcopy(save2)\n",
    "                    spill.player = 3-player\n",
    "\n",
    "                    if spill.board[0][d]==0:\n",
    "                        spill.play(d) \n",
    "                        save3 = copy.deepcopy(spill.board)\n",
    "                        if check_connect_four(spill.board):\n",
    "                            my_dict[a]-=1\n",
    "                            continue\n",
    "\n",
    "                    else:\n",
    "                        continue\n",
    "\n",
    "                    for e in range(7):\n",
    "                        spill.board = copy.deepcopy(save3)\n",
    "                        spill.player = player\n",
    "\n",
    "                        if spill.board[0][e]==0:\n",
    "                            spill.play(e)\n",
    "                            save4 = copy.deepcopy(spill.board)\n",
    "\n",
    "\n",
    "                            if check_connect_four(spill.board):\n",
    "                                my_dict[a]+=1\n",
    "                                continue\n",
    "                        else:\n",
    "                            continue\n",
    "\n",
    "                        # for f in range(7):\n",
    "                        #     spill.board = copy.deepcopy(save4)\n",
    "                        #     spill.player = 3-player\n",
    "\n",
    "\n",
    "                        #     if spill.board[0][f]==0:\n",
    "                        #         spill.play(f) \n",
    "                        #         save5 = copy.deepcopy(spill.board)\n",
    "\n",
    "\n",
    "                        #         if check_connect_four(spill.board):\n",
    "                        #             my_dict[a]-=1\n",
    "                        #             continue\n",
    "                        #     else:\n",
    "                        #         continue\n",
    "\n",
    "                        #     for g in range(7):\n",
    "                        #         spill.board = copy.deepcopy(save5)\n",
    "                        #         spill.player = player\n",
    "\n",
    "\n",
    "                        #         if spill.board[0][g]==0:\n",
    "                        #             spill.play(g)\n",
    "                        #             if check_connect_four(spill.board):\n",
    "                        #                 my_dict[a]+=1\n",
    "                        #                 continue\n",
    "                        #         else:\n",
    "                        #             continue\n",
    "        \n",
    "    sorted_dict = dict(sorted(my_dict.items(), key=lambda item: item[1], reverse=True))\n",
    "    for key in sorted_dict:          \n",
    "        if board[0][key]==0:          \n",
    "            return key\n",
    "        "
   ]
  },
  {
   "cell_type": "code",
   "execution_count": 8,
   "id": "9fba5f6b",
   "metadata": {},
   "outputs": [],
   "source": [
    "def bot_vs_bot(bot1,bot2):\n",
    "    # returns 1 if bot1 wins, -1 if bot2 wins, 0 if draw, and all the game states\n",
    "    # we first use play_game to get the winner, start_platy and moves_made\n",
    "    # then we use the moves_made to get all the game states\n",
    "\n",
    "    winner, start_player, moves_made = play_game(bot1, bot2, start_player=2)\n",
    "    board = np.zeros((6,7), dtype=np.int64)\n",
    "    boards = [] # we will append all the boards to this list, but not the first one since that is just an empty board\n",
    "    for move in moves_made:\n",
    "        board = make_move(board, move, 1)\n",
    "        boards.append(board.copy())\n",
    "\n",
    "    return winner, boards"
   ]
  },
  {
   "cell_type": "code",
   "execution_count": 44,
   "id": "65be7cb4",
   "metadata": {},
   "outputs": [],
   "source": [
    "import torch\n",
    "import torch.nn as nn\n",
    "import torch.optim as optim\n",
    "import numpy as np\n",
    "\n",
    "class Connect4Net(nn.Module):\n",
    "    def __init__(self):\n",
    "        super(Connect4Net, self).__init__()\n",
    "        self.fc1 = nn.Linear(6 * 7, 128)\n",
    "        self.relu = nn.ReLU()\n",
    "        self.fc2 = nn.Linear(128, 1)\n",
    "\n",
    "    def forward(self, x):\n",
    "        x = x.view(-1, 6 * 7)  # Flatten the input\n",
    "        x = self.fc1(x)\n",
    "        x = self.relu(x)\n",
    "        x = self.fc2(x)\n",
    "        return x\n",
    "\n",
    "\n",
    "def train(model, board, label, learning_rate=0.001):\n",
    "    criterion = nn.MSELoss()\n",
    "    optimizer = optim.Adam(model.parameters(), lr=learning_rate)\n",
    "\n",
    "    # Convert board to PyTorch tensor\n",
    "    board_tensor = torch.tensor(board, dtype=torch.float32)\n",
    "\n",
    "    # Forward pass\n",
    "    output = model(board_tensor)\n",
    "\n",
    "    # Convert label to PyTorch tensor\n",
    "    label_tensor = torch.tensor(label, dtype=torch.float32).view(-1, 1)\n",
    "\n",
    "    # Compute the loss and backpropagate\n",
    "    loss = criterion(output, label_tensor)\n",
    "    optimizer.zero_grad()\n",
    "    loss.backward()\n",
    "    optimizer.step()\n",
    "\n",
    "    return loss.item()\n",
    "\n",
    "\n",
    "# Example usage:\n",
    "# Create an instance of the model\n",
    "# model = Connect4Net()\n",
    "\n",
    "# # Example board\n",
    "# example_board = np.random.randint(-1, 2, size=(6, 7))\n",
    "# example_label = 0.5  # Replace with your actual label\n",
    "\n",
    "# # Train the model with the example\n",
    "# loss = train(model, example_board, example_label)\n",
    "\n",
    "# # Print the loss\n",
    "# print(\"Loss:\", loss)\n",
    "\n",
    "# we play games to obtain boards and labels\n",
    "def train_against_bot(bot):\n",
    "    winner, boards = bot_vs_bot(bot, alpha_4)\n",
    "    if winner == 2:\n",
    "        winner = -1\n",
    "\n",
    "    num_boards = len(boards)\n",
    "    for i in range(num_boards):\n",
    "        # Normalize the label between 0 and 1\n",
    "        normalized_label = (num_boards - i) / (num_boards) - 1\n",
    "        train(model, boards[i], normalized_label)\n",
    "    \n",
    "# model = Connect4Net()\n",
    "\n",
    "def evaluate_ai(board, model = model):\n",
    "    # Convert board to PyTorch tensor\n",
    "    board_tensor = torch.tensor(board, dtype=torch.float32)\n",
    "\n",
    "    # Get the model's prediction\n",
    "    with torch.no_grad():\n",
    "        prediction = model(board_tensor).numpy()[0][0]\n",
    "\n",
    "    return prediction\n"
   ]
  },
  {
   "cell_type": "code",
   "execution_count": 45,
   "id": "e4f180e7",
   "metadata": {},
   "outputs": [
    {
     "name": "stdout",
     "output_type": "stream",
     "text": [
      "0 0.32007598876953125\n",
      "100 20.4148850440979\n",
      "200 40.68311309814453\n",
      "300 61.095444679260254\n",
      "400 82.48252558708191\n",
      "500 104.58260583877563\n",
      "600 126.59706020355225\n",
      "700 148.79762864112854\n",
      "800 170.84597516059875\n",
      "900 193.00768995285034\n",
      "1000 215.1865565776825\n",
      "1100 236.89287400245667\n",
      "1200 258.71450662612915\n",
      "1300 280.4372487068176\n",
      "1400 302.636501789093\n",
      "1500 324.8541715145111\n",
      "1600 347.4477906227112\n",
      "1700 370.08967113494873\n",
      "1800 393.1319179534912\n",
      "1900 414.77888584136963\n",
      "2000 437.20981097221375\n",
      "2100 458.8465824127197\n",
      "2200 480.9566156864166\n",
      "2300 503.7983603477478\n",
      "2400 526.3411231040955\n",
      "2500 548.700065612793\n",
      "2600 570.8226845264435\n",
      "2700 591.9608500003815\n",
      "2800 610.9258029460907\n",
      "2900 632.8479120731354\n",
      "3000 655.9503412246704\n",
      "3100 679.033501625061\n",
      "3200 701.2880961894989\n",
      "3300 723.8716380596161\n",
      "3400 746.7342195510864\n",
      "3500 767.7797133922577\n",
      "3600 789.7590069770813\n",
      "3700 812.1716816425323\n",
      "3800 835.0372302532196\n",
      "3900 857.6719627380371\n",
      "4000 880.0785415172577\n",
      "4100 903.0472853183746\n",
      "4200 925.6855251789093\n",
      "4300 948.243043422699\n",
      "4400 971.4156556129456\n",
      "4500 994.4866032600403\n",
      "4600 1017.1109089851379\n",
      "4700 1039.4475803375244\n",
      "4800 1062.5093472003937\n",
      "4900 1085.1997601985931\n",
      "5000 1107.923225402832\n",
      "5100 1129.9394009113312\n",
      "5200 1151.9502618312836\n",
      "5300 1172.5587520599365\n",
      "5400 1194.6670956611633\n",
      "5500 1217.007478237152\n",
      "5600 1239.8145735263824\n",
      "5700 1262.947051525116\n",
      "5800 1285.5947976112366\n",
      "5900 1308.0937435626984\n",
      "6000 1330.867667913437\n",
      "6100 1353.5782809257507\n",
      "6200 1376.670043706894\n",
      "6300 1399.5403933525085\n",
      "6400 1422.4680852890015\n",
      "6500 1445.34082198143\n",
      "6600 1466.346232175827\n",
      "6700 1484.1941232681274\n",
      "6800 1502.3458740711212\n",
      "6900 1520.9848763942719\n",
      "7000 1540.5600562095642\n",
      "7100 1558.7459585666656\n",
      "7200 1577.3138239383698\n",
      "7300 1595.408816576004\n",
      "7400 1613.889549255371\n",
      "7500 1633.551833152771\n",
      "7600 1652.9374783039093\n",
      "7700 1672.2188603878021\n",
      "7800 1692.1910610198975\n",
      "7900 1711.7232780456543\n",
      "8000 1731.2998118400574\n",
      "8100 1749.7836601734161\n",
      "8200 1768.689957857132\n",
      "8300 1787.6283421516418\n",
      "8400 1807.1297776699066\n",
      "8500 1826.134616613388\n",
      "8600 1845.4105639457703\n",
      "8700 1864.7592296600342\n",
      "8800 1884.1274914741516\n",
      "8900 1903.1520240306854\n",
      "9000 1922.3760273456573\n",
      "9100 1941.131623506546\n",
      "9200 1962.4964337348938\n",
      "9300 1985.286173582077\n",
      "9400 2007.9878294467926\n",
      "9500 2030.7398924827576\n",
      "9600 2053.807290315628\n",
      "9700 2075.9391453266144\n",
      "9800 2097.6524188518524\n",
      "9900 2120.3919157981873\n"
     ]
    },
    {
     "data": {
      "text/plain": [
       "0"
      ]
     },
     "execution_count": 45,
     "metadata": {},
     "output_type": "execute_result"
    }
   ],
   "source": [
    "t = time.time()\n",
    "for i in range(10000):\n",
    "    train_against_bot(alpha_4)\n",
    "    if i%100 == 0:\n",
    "        print(i, time.time() - t)\n",
    "\n",
    "board = np.zeros((6,7), dtype=np.int64)\n",
    "evaluate_board(board)"
   ]
  },
  {
   "cell_type": "code",
   "execution_count": 69,
   "id": "77c98567",
   "metadata": {},
   "outputs": [
    {
     "data": {
      "text/plain": [
       "<All keys matched successfully>"
      ]
     },
     "execution_count": 69,
     "metadata": {},
     "output_type": "execute_result"
    }
   ],
   "source": [
    "# save the model\n",
    "\n",
    "# torch.save(model.state_dict(), \"connect4_model_depth_5.pt\")\n",
    "\n",
    "# load the model\n",
    "\n",
    "# model = Connect4Net()\n",
    "# model.load_state_dict(torch.load(\"connect4_model1.pt\"))\n",
    "# model.load_state_dict(torch.load(\"connect4_model_depth_5.pt\"))"
   ]
  },
  {
   "cell_type": "code",
   "execution_count": 51,
   "id": "9e728b61",
   "metadata": {},
   "outputs": [
    {
     "name": "stdout",
     "output_type": "stream",
     "text": [
      "-4.907620974407531\n"
     ]
    }
   ],
   "source": [
    "# test if it evaluates the board correctly\n",
    "\n",
    "# fill board with random 0, 1 and 2\n",
    "# tot = 0\n",
    "# for i in range(100000):\n",
    "#     board = np.random.randint(-1, 2, size=(6, 7))\n",
    "#     tot += evaluate_ai(board, model)\n",
    "# print(tot/100000)\n",
    "\n",
    "\n",
    "alpha = -np.inf\n",
    "beta = np.inf\n",
    "depth = 4\n",
    "tot = 0\n",
    "N = 1000\n",
    "for i in range(N):\n",
    "    board = np.random.randint(-1, 2, size=(6, 7))\n",
    "    eval_score = alphabeta(board, depth - 1, alpha, beta, False, eval_func = evaluate_ai)\n",
    "    tot += eval_score\n",
    "\n",
    "print(tot/N)"
   ]
  },
  {
   "cell_type": "code",
   "execution_count": 76,
   "id": "2f1ce1ba",
   "metadata": {},
   "outputs": [
    {
     "name": "stdout",
     "output_type": "stream",
     "text": [
      "Game 0/100 started after 0.00 seconds\n",
      "Game 10/100 started after 0.95 seconds\n",
      "Game 20/100 started after 1.90 seconds\n",
      "Game 30/100 started after 2.91 seconds\n",
      "Game 40/100 started after 3.85 seconds\n",
      "Game 50/100 started after 4.77 seconds\n",
      "Game 60/100 started after 5.81 seconds\n",
      "Game 70/100 started after 6.64 seconds\n",
      "Game 80/100 started after 7.56 seconds\n",
      "Game 90/100 started after 8.46 seconds\n",
      "[96, 3, 1]\n",
      "0.096\n"
     ]
    }
   ],
   "source": [
    "def play_game_random_start(bot1, bot2, start_player = 0, random_bot = random_bot, random_turns = 4):\n",
    "    if start_player == 0:\n",
    "        start_player = random.randint(1, 2)\n",
    "    \n",
    "    game = Connect4()\n",
    "    game.player = start_player\n",
    "    winner = 0\n",
    "\n",
    "    bot1_ = random_bot\n",
    "    bot2_ = random_bot\n",
    "\n",
    "    i = 0\n",
    "    while True:\n",
    "        botname = bot1.__name__ if game.player == 1 else bot2.__name__\n",
    "        if game.player == 1:\n",
    "            move = bot1_(game.board, game.player, game.moves_made[-1] if len(game.moves_made) > 0 else None)\n",
    "        else:\n",
    "            move = bot2_(game.board, game.player, game.moves_made[-1] if len(game.moves_made) > 0 else None)\n",
    "        flag = game.play(move)\n",
    "        if flag == False:\n",
    "            winner = 3 - game.player\n",
    "            print(f\"{botname} ({3-game.player}) made an invalid move, and therefore loses\")\n",
    "            return winner, start_player, game.moves_made\n",
    "\n",
    "        winner = check_winner(game.board)\n",
    "        if winner != 0:\n",
    "            break\n",
    "        if 0 not in game.board[0]:\n",
    "            winner = 0\n",
    "            break\n",
    "\n",
    "        i += 1\n",
    "        if i == random_turns:\n",
    "            bot1_ = bot1\n",
    "            bot2_ = bot1\n",
    "\n",
    "\n",
    "    return winner, start_player, game.moves_made\n",
    "\n",
    "\n",
    "def simulate_games_random_start(bot1, bot2, random_bot = random_bot, N = 100, starting_player = 0, print_time = False):\n",
    "    # simulates N games between bot1 and bot2\n",
    "    # returns the number of games won by bot1 and bot2\n",
    "\n",
    "    bot1_wins = 0\n",
    "    bot2_wins = 0\n",
    "    draws = 0\n",
    "    games = []\n",
    "    t = time.time()\n",
    "    for i in range(N):\n",
    "        if print_time and i % (N//10) == 0:\n",
    "            print(f\"Game {i}/{N} started after {time.time() - t:.2f} seconds\")\n",
    "\n",
    "        winner, start_player, moves_made = play_game_random_start(bot1, bot2, start_player = starting_player, random_bot = random_bot)\n",
    "        games.append([winner, start_player, moves_made])\n",
    "        if winner == 1:\n",
    "            bot1_wins += 1\n",
    "        elif winner == 2:\n",
    "            bot2_wins += 1\n",
    "        else:\n",
    "            draws += 1\n",
    "\n",
    "    stats = [bot1_wins, bot2_wins, draws]\n",
    "    return stats, games\n",
    "\n",
    "stats, games = simulate_games_random_start(alpha_4, morad, N = 100, print_time = True)\n",
    "print(stats)\n",
    "print(stats[0]/N)"
   ]
  },
  {
   "cell_type": "code",
   "execution_count": 17,
   "id": "40b0ce6a",
   "metadata": {},
   "outputs": [
    {
     "name": "stdout",
     "output_type": "stream",
     "text": [
      "3.367610454559326\n"
     ]
    }
   ],
   "source": [
    "# time test bots\n",
    "def time_test(bot, n=1000):\n",
    "    # make a board consisting of only 0s\n",
    "    board = [[0, 0, 0, 0, 0, 0, 0], [0, 0, 0, 0, 0, 0, 0], [0, 0, 0, 0, 0, 0, 0], [0, 0, 0, 0, 0, 0, 0], [0, 0, 0, 0, 0, 0, 0], [0, 0, 0, 0, 0, 0, 0]] # empty board to force looking far ahead\n",
    "    board = np.array(board)\n",
    "    start = time.time()\n",
    "    for i in range(n):\n",
    "        bot(board, 1, 0)\n",
    "    end = time.time()\n",
    "    print(end - start)\n",
    "\n",
    "time_test(alpha_4)"
   ]
  },
  {
   "cell_type": "code",
   "execution_count": 361,
   "id": "e5b83ed7",
   "metadata": {},
   "outputs": [
    {
     "name": "stdout",
     "output_type": "stream",
     "text": [
      "Game 0/100 started after 0.00 seconds\n",
      "Game 10/100 started after 2.25 seconds\n",
      "Game 20/100 started after 4.73 seconds\n",
      "Game 30/100 started after 7.23 seconds\n",
      "Game 40/100 started after 9.80 seconds\n",
      "Game 50/100 started after 12.11 seconds\n",
      "Game 60/100 started after 14.49 seconds\n",
      "Game 70/100 started after 16.86 seconds\n",
      "Game 80/100 started after 19.22 seconds\n",
      "Game 90/100 started after 21.56 seconds\n",
      "[100, 0, 0]\n",
      "1.0\n"
     ]
    }
   ],
   "source": [
    "N = 100\n",
    "stats, games = simulate_games(alpha_4, alpha_4, N = N, print_time = True) # ????\n",
    "print(stats)\n",
    "print(stats[0]/N)"
   ]
  },
  {
   "cell_type": "code",
   "execution_count": 77,
   "id": "53fa9a61",
   "metadata": {},
   "outputs": [
    {
     "name": "stdout",
     "output_type": "stream",
     "text": [
      "2 started\n"
     ]
    },
    {
     "data": {
      "image/png": "[encoded data removed]",
      "text/plain": [
       "<Figure size 250x250 with 1 Axes>"
      ]
     },
     "metadata": {},
     "output_type": "display_data"
    },
    {
     "name": "stdout",
     "output_type": "stream",
     "text": [
      "[[0, 0, 0, 0, 0, 0, 0], [0, 0, 0, 0, 0, 0, 0], [0, 0, 0, 0, 0, 0, 0], [0, 0, 0, 0, 0, 0, 0], [0, 0, 0, 0, 0, 0, 0], [0, 0, 2, 0, 0, 0, 0]]\n"
     ]
    },
    {
     "data": {
      "image/png": "[encoded data removed]",
      "text/plain": [
       "<Figure size 250x250 with 1 Axes>"
      ]
     },
     "metadata": {},
     "output_type": "display_data"
    },
    {
     "name": "stdout",
     "output_type": "stream",
     "text": [
      "[[0, 0, 0, 0, 0, 0, 0], [0, 0, 0, 0, 0, 0, 0], [0, 0, 0, 0, 0, 0, 0], [0, 0, 0, 0, 0, 0, 0], [0, 0, 0, 0, 0, 0, 0], [0, 0, 2, 0, 0, 1, 0]]\n"
     ]
    },
    {
     "data": {
      "image/png": "[encoded data removed]",
      "text/plain": [
       "<Figure size 250x250 with 1 Axes>"
      ]
     },
     "metadata": {},
     "output_type": "display_data"
    },
    {
     "name": "stdout",
     "output_type": "stream",
     "text": [
      "[[0, 0, 0, 0, 0, 0, 0], [0, 0, 0, 0, 0, 0, 0], [0, 0, 0, 0, 0, 0, 0], [0, 0, 0, 0, 0, 0, 0], [0, 0, 2, 0, 0, 0, 0], [0, 0, 2, 0, 0, 1, 0]]\n"
     ]
    },
    {
     "data": {
      "image/png": "[encoded data removed]",
      "text/plain": [
       "<Figure size 250x250 with 1 Axes>"
      ]
     },
     "metadata": {},
     "output_type": "display_data"
    },
    {
     "name": "stdout",
     "output_type": "stream",
     "text": [
      "[[0, 0, 0, 0, 0, 0, 0], [0, 0, 0, 0, 0, 0, 0], [0, 0, 0, 0, 0, 0, 0], [0, 0, 0, 0, 0, 0, 0], [0, 0, 2, 0, 0, 0, 0], [1, 0, 2, 0, 0, 1, 0]]\n"
     ]
    },
    {
     "data": {
      "image/png": "[encoded data removed]",
      "text/plain": [
       "<Figure size 250x250 with 1 Axes>"
      ]
     },
     "metadata": {},
     "output_type": "display_data"
    },
    {
     "name": "stdout",
     "output_type": "stream",
     "text": [
      "[[0, 0, 0, 0, 0, 0, 0], [0, 0, 0, 0, 0, 0, 0], [0, 0, 0, 0, 0, 0, 0], [0, 0, 0, 0, 0, 0, 0], [2, 0, 2, 0, 0, 0, 0], [1, 0, 2, 0, 0, 1, 0]]\n"
     ]
    },
    {
     "data": {
      "image/png": "[encoded data removed]",
      "text/plain": [
       "<Figure size 250x250 with 1 Axes>"
      ]
     },
     "metadata": {},
     "output_type": "display_data"
    },
    {
     "name": "stdout",
     "output_type": "stream",
     "text": [
      "[[0, 0, 0, 0, 0, 0, 0], [0, 0, 0, 0, 0, 0, 0], [0, 0, 0, 0, 0, 0, 0], [0, 0, 1, 0, 0, 0, 0], [2, 0, 2, 0, 0, 0, 0], [1, 0, 2, 0, 0, 1, 0]]\n"
     ]
    },
    {
     "data": {
      "image/png": "[encoded data removed]",
      "text/plain": [
       "<Figure size 250x250 with 1 Axes>"
      ]
     },
     "metadata": {},
     "output_type": "display_data"
    },
    {
     "name": "stdout",
     "output_type": "stream",
     "text": [
      "[[0, 0, 0, 0, 0, 0, 0], [0, 0, 0, 0, 0, 0, 0], [0, 0, 0, 0, 0, 0, 0], [0, 0, 1, 0, 0, 0, 0], [2, 0, 2, 0, 0, 0, 0], [1, 2, 2, 0, 0, 1, 0]]\n"
     ]
    },
    {
     "data": {
      "image/png": "[encoded data removed]",
      "text/plain": [
       "<Figure size 250x250 with 1 Axes>"
      ]
     },
     "metadata": {},
     "output_type": "display_data"
    },
    {
     "name": "stdout",
     "output_type": "stream",
     "text": [
      "[[0, 0, 0, 0, 0, 0, 0], [0, 0, 0, 0, 0, 0, 0], [0, 0, 1, 0, 0, 0, 0], [0, 0, 1, 0, 0, 0, 0], [2, 0, 2, 0, 0, 0, 0], [1, 2, 2, 0, 0, 1, 0]]\n"
     ]
    },
    {
     "data": {
      "image/png": "[encoded data removed]",
      "text/plain": [
       "<Figure size 250x250 with 1 Axes>"
      ]
     },
     "metadata": {},
     "output_type": "display_data"
    },
    {
     "name": "stdout",
     "output_type": "stream",
     "text": [
      "[[0, 0, 0, 0, 0, 0, 0], [0, 0, 0, 0, 0, 0, 0], [0, 0, 1, 0, 0, 0, 0], [0, 0, 1, 0, 0, 0, 0], [2, 2, 2, 0, 0, 0, 0], [1, 2, 2, 0, 0, 1, 0]]\n"
     ]
    },
    {
     "data": {
      "image/png": "[encoded data removed]",
      "text/plain": [
       "<Figure size 250x250 with 1 Axes>"
      ]
     },
     "metadata": {},
     "output_type": "display_data"
    },
    {
     "name": "stdout",
     "output_type": "stream",
     "text": [
      "[[0, 0, 0, 0, 0, 0, 0], [0, 0, 1, 0, 0, 0, 0], [0, 0, 1, 0, 0, 0, 0], [0, 0, 1, 0, 0, 0, 0], [2, 2, 2, 0, 0, 0, 0], [1, 2, 2, 0, 0, 1, 0]]\n"
     ]
    },
    {
     "data": {
      "image/png": "[encoded data removed]",
      "text/plain": [
       "<Figure size 250x250 with 1 Axes>"
      ]
     },
     "metadata": {},
     "output_type": "display_data"
    },
    {
     "name": "stdout",
     "output_type": "stream",
     "text": [
      "[[0, 0, 2, 0, 0, 0, 0], [0, 0, 1, 0, 0, 0, 0], [0, 0, 1, 0, 0, 0, 0], [0, 0, 1, 0, 0, 0, 0], [2, 2, 2, 0, 0, 0, 0], [1, 2, 2, 0, 0, 1, 0]]\n"
     ]
    },
    {
     "data": {
      "image/png": "[encoded data removed]",
      "text/plain": [
       "<Figure size 250x250 with 1 Axes>"
      ]
     },
     "metadata": {},
     "output_type": "display_data"
    },
    {
     "name": "stdout",
     "output_type": "stream",
     "text": [
      "[[0, 0, 2, 0, 0, 0, 0], [0, 0, 1, 0, 0, 0, 0], [0, 0, 1, 0, 0, 0, 0], [0, 1, 1, 0, 0, 0, 0], [2, 2, 2, 0, 0, 0, 0], [1, 2, 2, 0, 0, 1, 0]]\n"
     ]
    },
    {
     "data": {
      "image/png": "[encoded data removed]",
      "text/plain": [
       "<Figure size 250x250 with 1 Axes>"
      ]
     },
     "metadata": {},
     "output_type": "display_data"
    },
    {
     "name": "stdout",
     "output_type": "stream",
     "text": [
      "[[0, 0, 2, 0, 0, 0, 0], [0, 0, 1, 0, 0, 0, 0], [0, 0, 1, 0, 0, 0, 0], [2, 1, 1, 0, 0, 0, 0], [2, 2, 2, 0, 0, 0, 0], [1, 2, 2, 0, 0, 1, 0]]\n"
     ]
    },
    {
     "data": {
      "image/png": "[encoded data removed]",
      "text/plain": [
       "<Figure size 250x250 with 1 Axes>"
      ]
     },
     "metadata": {},
     "output_type": "display_data"
    },
    {
     "name": "stdout",
     "output_type": "stream",
     "text": [
      "[[0, 0, 2, 0, 0, 0, 0], [0, 0, 1, 0, 0, 0, 0], [0, 1, 1, 0, 0, 0, 0], [2, 1, 1, 0, 0, 0, 0], [2, 2, 2, 0, 0, 0, 0], [1, 2, 2, 0, 0, 1, 0]]\n"
     ]
    },
    {
     "data": {
      "image/png": "[encoded data removed]",
      "text/plain": [
       "<Figure size 250x250 with 1 Axes>"
      ]
     },
     "metadata": {},
     "output_type": "display_data"
    },
    {
     "name": "stdout",
     "output_type": "stream",
     "text": [
      "[[0, 0, 2, 0, 0, 0, 0], [0, 0, 1, 0, 0, 0, 0], [0, 1, 1, 0, 0, 0, 0], [2, 1, 1, 0, 0, 0, 0], [2, 2, 2, 0, 0, 0, 0], [1, 2, 2, 0, 0, 1, 2]]\n"
     ]
    },
    {
     "data": {
      "image/png": "[encoded data removed]",
      "text/plain": [
       "<Figure size 250x250 with 1 Axes>"
      ]
     },
     "metadata": {},
     "output_type": "display_data"
    },
    {
     "name": "stdout",
     "output_type": "stream",
     "text": [
      "[[0, 0, 2, 0, 0, 0, 0], [0, 1, 1, 0, 0, 0, 0], [0, 1, 1, 0, 0, 0, 0], [2, 1, 1, 0, 0, 0, 0], [2, 2, 2, 0, 0, 0, 0], [1, 2, 2, 0, 0, 1, 2]]\n"
     ]
    },
    {
     "data": {
      "image/png": "[encoded data removed]",
      "text/plain": [
       "<Figure size 250x250 with 1 Axes>"
      ]
     },
     "metadata": {},
     "output_type": "display_data"
    },
    {
     "name": "stdout",
     "output_type": "stream",
     "text": [
      "[[0, 2, 2, 0, 0, 0, 0], [0, 1, 1, 0, 0, 0, 0], [0, 1, 1, 0, 0, 0, 0], [2, 1, 1, 0, 0, 0, 0], [2, 2, 2, 0, 0, 0, 0], [1, 2, 2, 0, 0, 1, 2]]\n"
     ]
    },
    {
     "data": {
      "image/png": "[encoded data removed]",
      "text/plain": [
       "<Figure size 250x250 with 1 Axes>"
      ]
     },
     "metadata": {},
     "output_type": "display_data"
    },
    {
     "name": "stdout",
     "output_type": "stream",
     "text": [
      "[[0, 2, 2, 0, 0, 0, 0], [0, 1, 1, 0, 0, 0, 0], [0, 1, 1, 0, 0, 0, 0], [2, 1, 1, 0, 0, 0, 0], [2, 2, 2, 0, 0, 0, 1], [1, 2, 2, 0, 0, 1, 2]]\n"
     ]
    },
    {
     "data": {
      "image/png": "[encoded data removed]",
      "text/plain": [
       "<Figure size 250x250 with 1 Axes>"
      ]
     },
     "metadata": {},
     "output_type": "display_data"
    },
    {
     "name": "stdout",
     "output_type": "stream",
     "text": [
      "[[0, 2, 2, 0, 0, 0, 0], [0, 1, 1, 0, 0, 0, 0], [0, 1, 1, 0, 0, 0, 0], [2, 1, 1, 0, 0, 0, 2], [2, 2, 2, 0, 0, 0, 1], [1, 2, 2, 0, 0, 1, 2]]\n"
     ]
    },
    {
     "data": {
      "image/png": "[encoded data removed]",
      "text/plain": [
       "<Figure size 250x250 with 1 Axes>"
      ]
     },
     "metadata": {},
     "output_type": "display_data"
    },
    {
     "name": "stdout",
     "output_type": "stream",
     "text": [
      "[[0, 2, 2, 0, 0, 0, 0], [0, 1, 1, 0, 0, 0, 0], [1, 1, 1, 0, 0, 0, 0], [2, 1, 1, 0, 0, 0, 2], [2, 2, 2, 0, 0, 0, 1], [1, 2, 2, 0, 0, 1, 2]]\n"
     ]
    },
    {
     "data": {
      "image/png": "[encoded data removed]",
      "text/plain": [
       "<Figure size 250x250 with 1 Axes>"
      ]
     },
     "metadata": {},
     "output_type": "display_data"
    },
    {
     "name": "stdout",
     "output_type": "stream",
     "text": [
      "[[0, 2, 2, 0, 0, 0, 0], [0, 1, 1, 0, 0, 0, 0], [1, 1, 1, 0, 0, 0, 2], [2, 1, 1, 0, 0, 0, 2], [2, 2, 2, 0, 0, 0, 1], [1, 2, 2, 0, 0, 1, 2]]\n"
     ]
    },
    {
     "data": {
      "image/png": "[encoded data removed]",
      "text/plain": [
       "<Figure size 250x250 with 1 Axes>"
      ]
     },
     "metadata": {},
     "output_type": "display_data"
    },
    {
     "name": "stdout",
     "output_type": "stream",
     "text": [
      "[[0, 2, 2, 0, 0, 0, 0], [1, 1, 1, 0, 0, 0, 0], [1, 1, 1, 0, 0, 0, 2], [2, 1, 1, 0, 0, 0, 2], [2, 2, 2, 0, 0, 0, 1], [1, 2, 2, 0, 0, 1, 2]]\n"
     ]
    },
    {
     "data": {
      "image/png": "[encoded data removed]",
      "text/plain": [
       "<Figure size 250x250 with 1 Axes>"
      ]
     },
     "metadata": {},
     "output_type": "display_data"
    },
    {
     "name": "stdout",
     "output_type": "stream",
     "text": [
      "[[2, 2, 2, 0, 0, 0, 0], [1, 1, 1, 0, 0, 0, 0], [1, 1, 1, 0, 0, 0, 2], [2, 1, 1, 0, 0, 0, 2], [2, 2, 2, 0, 0, 0, 1], [1, 2, 2, 0, 0, 1, 2]]\n"
     ]
    },
    {
     "data": {
      "image/png": "[encoded data removed]",
      "text/plain": [
       "<Figure size 250x250 with 1 Axes>"
      ]
     },
     "metadata": {},
     "output_type": "display_data"
    },
    {
     "name": "stdout",
     "output_type": "stream",
     "text": [
      "[[2, 2, 2, 0, 0, 0, 0], [1, 1, 1, 0, 0, 0, 0], [1, 1, 1, 0, 0, 0, 2], [2, 1, 1, 0, 0, 0, 2], [2, 2, 2, 0, 0, 1, 1], [1, 2, 2, 0, 0, 1, 2]]\n"
     ]
    },
    {
     "data": {
      "image/png": "[encoded data removed]",
      "text/plain": [
       "<Figure size 250x250 with 1 Axes>"
      ]
     },
     "metadata": {},
     "output_type": "display_data"
    },
    {
     "name": "stdout",
     "output_type": "stream",
     "text": [
      "[[2, 2, 2, 0, 0, 0, 0], [1, 1, 1, 0, 0, 0, 2], [1, 1, 1, 0, 0, 0, 2], [2, 1, 1, 0, 0, 0, 2], [2, 2, 2, 0, 0, 1, 1], [1, 2, 2, 0, 0, 1, 2]]\n"
     ]
    },
    {
     "data": {
      "image/png": "[encoded data removed]",
      "text/plain": [
       "<Figure size 250x250 with 1 Axes>"
      ]
     },
     "metadata": {},
     "output_type": "display_data"
    },
    {
     "name": "stdout",
     "output_type": "stream",
     "text": [
      "[[2, 2, 2, 0, 0, 0, 1], [1, 1, 1, 0, 0, 0, 2], [1, 1, 1, 0, 0, 0, 2], [2, 1, 1, 0, 0, 0, 2], [2, 2, 2, 0, 0, 1, 1], [1, 2, 2, 0, 0, 1, 2]]\n"
     ]
    },
    {
     "data": {
      "image/png": "[encoded data removed]",
      "text/plain": [
       "<Figure size 250x250 with 1 Axes>"
      ]
     },
     "metadata": {},
     "output_type": "display_data"
    },
    {
     "name": "stdout",
     "output_type": "stream",
     "text": [
      "[[2, 2, 2, 0, 0, 0, 1], [1, 1, 1, 0, 0, 0, 2], [1, 1, 1, 0, 0, 0, 2], [2, 1, 1, 0, 0, 2, 2], [2, 2, 2, 0, 0, 1, 1], [1, 2, 2, 0, 0, 1, 2]]\n"
     ]
    },
    {
     "data": {
      "image/png": "[encoded data removed]",
      "text/plain": [
       "<Figure size 250x250 with 1 Axes>"
      ]
     },
     "metadata": {},
     "output_type": "display_data"
    },
    {
     "name": "stdout",
     "output_type": "stream",
     "text": [
      "[[2, 2, 2, 0, 0, 0, 1], [1, 1, 1, 0, 0, 0, 2], [1, 1, 1, 0, 0, 1, 2], [2, 1, 1, 0, 0, 2, 2], [2, 2, 2, 0, 0, 1, 1], [1, 2, 2, 0, 0, 1, 2]]\n"
     ]
    },
    {
     "data": {
      "image/png": "[encoded data removed]",
      "text/plain": [
       "<Figure size 250x250 with 1 Axes>"
      ]
     },
     "metadata": {},
     "output_type": "display_data"
    },
    {
     "name": "stdout",
     "output_type": "stream",
     "text": [
      "[[2, 2, 2, 0, 0, 0, 1], [1, 1, 1, 0, 0, 2, 2], [1, 1, 1, 0, 0, 1, 2], [2, 1, 1, 0, 0, 2, 2], [2, 2, 2, 0, 0, 1, 1], [1, 2, 2, 0, 0, 1, 2]]\n"
     ]
    },
    {
     "data": {
      "image/png": "[encoded data removed]",
      "text/plain": [
       "<Figure size 250x250 with 1 Axes>"
      ]
     },
     "metadata": {},
     "output_type": "display_data"
    },
    {
     "name": "stdout",
     "output_type": "stream",
     "text": [
      "[[2, 2, 2, 0, 0, 1, 1], [1, 1, 1, 0, 0, 2, 2], [1, 1, 1, 0, 0, 1, 2], [2, 1, 1, 0, 0, 2, 2], [2, 2, 2, 0, 0, 1, 1], [1, 2, 2, 0, 0, 1, 2]]\n"
     ]
    },
    {
     "data": {
      "image/png": "[encoded data removed]",
      "text/plain": [
       "<Figure size 250x250 with 1 Axes>"
      ]
     },
     "metadata": {},
     "output_type": "display_data"
    },
    {
     "name": "stdout",
     "output_type": "stream",
     "text": [
      "[[2, 2, 2, 0, 0, 1, 1], [1, 1, 1, 0, 0, 2, 2], [1, 1, 1, 0, 0, 1, 2], [2, 1, 1, 0, 0, 2, 2], [2, 2, 2, 0, 0, 1, 1], [1, 2, 2, 0, 2, 1, 2]]\n"
     ]
    },
    {
     "data": {
      "image/png": "[encoded data removed]",
      "text/plain": [
       "<Figure size 250x250 with 1 Axes>"
      ]
     },
     "metadata": {},
     "output_type": "display_data"
    },
    {
     "name": "stdout",
     "output_type": "stream",
     "text": [
      "[[2, 2, 2, 0, 0, 1, 1], [1, 1, 1, 0, 0, 2, 2], [1, 1, 1, 0, 0, 1, 2], [2, 1, 1, 0, 0, 2, 2], [2, 2, 2, 0, 0, 1, 1], [1, 2, 2, 1, 2, 1, 2]]\n"
     ]
    },
    {
     "data": {
      "image/png": "[encoded data removed]",
      "text/plain": [
       "<Figure size 250x250 with 1 Axes>"
      ]
     },
     "metadata": {},
     "output_type": "display_data"
    },
    {
     "name": "stdout",
     "output_type": "stream",
     "text": [
      "[[2, 2, 2, 0, 0, 1, 1], [1, 1, 1, 0, 0, 2, 2], [1, 1, 1, 0, 0, 1, 2], [2, 1, 1, 0, 0, 2, 2], [2, 2, 2, 2, 0, 1, 1], [1, 2, 2, 1, 2, 1, 2]]\n",
      "2 started\n"
     ]
    },
    {
     "data": {
      "image/png": "[encoded data removed]",
      "text/plain": [
       "<Figure size 250x250 with 1 Axes>"
      ]
     },
     "metadata": {},
     "output_type": "display_data"
    },
    {
     "name": "stdout",
     "output_type": "stream",
     "text": [
      "[[0, 0, 0, 0, 0, 0, 0], [0, 0, 0, 0, 0, 0, 0], [0, 0, 0, 0, 0, 0, 0], [0, 0, 0, 0, 0, 0, 0], [0, 0, 0, 0, 0, 0, 0], [0, 0, 2, 0, 0, 0, 0]]\n"
     ]
    },
    {
     "data": {
      "image/png": "[encoded data removed]",
      "text/plain": [
       "<Figure size 250x250 with 1 Axes>"
      ]
     },
     "metadata": {},
     "output_type": "display_data"
    },
    {
     "name": "stdout",
     "output_type": "stream",
     "text": [
      "[[0, 0, 0, 0, 0, 0, 0], [0, 0, 0, 0, 0, 0, 0], [0, 0, 0, 0, 0, 0, 0], [0, 0, 0, 0, 0, 0, 0], [0, 0, 0, 0, 0, 0, 0], [0, 0, 2, 0, 1, 0, 0]]\n"
     ]
    },
    {
     "data": {
      "image/png": "[encoded data removed]",
      "text/plain": [
       "<Figure size 250x250 with 1 Axes>"
      ]
     },
     "metadata": {},
     "output_type": "display_data"
    },
    {
     "name": "stdout",
     "output_type": "stream",
     "text": [
      "[[0, 0, 0, 0, 0, 0, 0], [0, 0, 0, 0, 0, 0, 0], [0, 0, 0, 0, 0, 0, 0], [0, 0, 0, 0, 0, 0, 0], [0, 0, 2, 0, 0, 0, 0], [0, 0, 2, 0, 1, 0, 0]]\n"
     ]
    },
    {
     "data": {
      "image/png": "[encoded data removed]",
      "text/plain": [
       "<Figure size 250x250 with 1 Axes>"
      ]
     },
     "metadata": {},
     "output_type": "display_data"
    },
    {
     "name": "stdout",
     "output_type": "stream",
     "text": [
      "[[0, 0, 0, 0, 0, 0, 0], [0, 0, 0, 0, 0, 0, 0], [0, 0, 0, 0, 0, 0, 0], [0, 0, 0, 0, 0, 0, 0], [0, 0, 2, 0, 1, 0, 0], [0, 0, 2, 0, 1, 0, 0]]\n"
     ]
    },
    {
     "data": {
      "image/png": "[encoded data removed]",
      "text/plain": [
       "<Figure size 250x250 with 1 Axes>"
      ]
     },
     "metadata": {},
     "output_type": "display_data"
    },
    {
     "name": "stdout",
     "output_type": "stream",
     "text": [
      "[[0, 0, 0, 0, 0, 0, 0], [0, 0, 0, 0, 0, 0, 0], [0, 0, 0, 0, 0, 0, 0], [0, 0, 0, 0, 0, 0, 0], [0, 0, 2, 0, 1, 0, 0], [2, 0, 2, 0, 1, 0, 0]]\n"
     ]
    },
    {
     "data": {
      "image/png": "[encoded data removed]",
      "text/plain": [
       "<Figure size 250x250 with 1 Axes>"
      ]
     },
     "metadata": {},
     "output_type": "display_data"
    },
    {
     "name": "stdout",
     "output_type": "stream",
     "text": [
      "[[0, 0, 0, 0, 0, 0, 0], [0, 0, 0, 0, 0, 0, 0], [0, 0, 0, 0, 0, 0, 0], [0, 0, 0, 0, 1, 0, 0], [0, 0, 2, 0, 1, 0, 0], [2, 0, 2, 0, 1, 0, 0]]\n"
     ]
    },
    {
     "data": {
      "image/png": "[encoded data removed]",
      "text/plain": [
       "<Figure size 250x250 with 1 Axes>"
      ]
     },
     "metadata": {},
     "output_type": "display_data"
    },
    {
     "name": "stdout",
     "output_type": "stream",
     "text": [
      "[[0, 0, 0, 0, 0, 0, 0], [0, 0, 0, 0, 0, 0, 0], [0, 0, 0, 0, 2, 0, 0], [0, 0, 0, 0, 1, 0, 0], [0, 0, 2, 0, 1, 0, 0], [2, 0, 2, 0, 1, 0, 0]]\n"
     ]
    },
    {
     "data": {
      "image/png": "[encoded data removed]",
      "text/plain": [
       "<Figure size 250x250 with 1 Axes>"
      ]
     },
     "metadata": {},
     "output_type": "display_data"
    },
    {
     "name": "stdout",
     "output_type": "stream",
     "text": [
      "[[0, 0, 0, 0, 0, 0, 0], [0, 0, 0, 0, 0, 0, 0], [0, 0, 0, 0, 2, 0, 0], [0, 0, 1, 0, 1, 0, 0], [0, 0, 2, 0, 1, 0, 0], [2, 0, 2, 0, 1, 0, 0]]\n"
     ]
    },
    {
     "data": {
      "image/png": "[encoded data removed]",
      "text/plain": [
       "<Figure size 250x250 with 1 Axes>"
      ]
     },
     "metadata": {},
     "output_type": "display_data"
    },
    {
     "name": "stdout",
     "output_type": "stream",
     "text": [
      "[[0, 0, 0, 0, 0, 0, 0], [0, 0, 0, 0, 0, 0, 0], [0, 0, 0, 0, 2, 0, 0], [0, 0, 1, 0, 1, 0, 0], [2, 0, 2, 0, 1, 0, 0], [2, 0, 2, 0, 1, 0, 0]]\n"
     ]
    },
    {
     "data": {
      "image/png": "[encoded data removed]",
      "text/plain": [
       "<Figure size 250x250 with 1 Axes>"
      ]
     },
     "metadata": {},
     "output_type": "display_data"
    },
    {
     "name": "stdout",
     "output_type": "stream",
     "text": [
      "[[0, 0, 0, 0, 0, 0, 0], [0, 0, 0, 0, 0, 0, 0], [0, 0, 1, 0, 2, 0, 0], [0, 0, 1, 0, 1, 0, 0], [2, 0, 2, 0, 1, 0, 0], [2, 0, 2, 0, 1, 0, 0]]\n"
     ]
    },
    {
     "data": {
      "image/png": "[encoded data removed]",
      "text/plain": [
       "<Figure size 250x250 with 1 Axes>"
      ]
     },
     "metadata": {},
     "output_type": "display_data"
    },
    {
     "name": "stdout",
     "output_type": "stream",
     "text": [
      "[[0, 0, 0, 0, 0, 0, 0], [0, 0, 0, 0, 0, 0, 0], [0, 0, 1, 0, 2, 0, 0], [0, 0, 1, 0, 1, 0, 0], [2, 0, 2, 0, 1, 0, 0], [2, 0, 2, 0, 1, 0, 2]]\n"
     ]
    },
    {
     "data": {
      "image/png": "[encoded data removed]",
      "text/plain": [
       "<Figure size 250x250 with 1 Axes>"
      ]
     },
     "metadata": {},
     "output_type": "display_data"
    },
    {
     "name": "stdout",
     "output_type": "stream",
     "text": [
      "[[0, 0, 0, 0, 0, 0, 0], [0, 0, 1, 0, 0, 0, 0], [0, 0, 1, 0, 2, 0, 0], [0, 0, 1, 0, 1, 0, 0], [2, 0, 2, 0, 1, 0, 0], [2, 0, 2, 0, 1, 0, 2]]\n"
     ]
    },
    {
     "data": {
      "image/png": "[encoded data removed]",
      "text/plain": [
       "<Figure size 250x250 with 1 Axes>"
      ]
     },
     "metadata": {},
     "output_type": "display_data"
    },
    {
     "name": "stdout",
     "output_type": "stream",
     "text": [
      "[[0, 0, 2, 0, 0, 0, 0], [0, 0, 1, 0, 0, 0, 0], [0, 0, 1, 0, 2, 0, 0], [0, 0, 1, 0, 1, 0, 0], [2, 0, 2, 0, 1, 0, 0], [2, 0, 2, 0, 1, 0, 2]]\n"
     ]
    },
    {
     "data": {
      "image/png": "[encoded data removed]",
      "text/plain": [
       "<Figure size 250x250 with 1 Axes>"
      ]
     },
     "metadata": {},
     "output_type": "display_data"
    },
    {
     "name": "stdout",
     "output_type": "stream",
     "text": [
      "[[0, 0, 2, 0, 0, 0, 0], [0, 0, 1, 0, 0, 0, 0], [0, 0, 1, 0, 2, 0, 0], [1, 0, 1, 0, 1, 0, 0], [2, 0, 2, 0, 1, 0, 0], [2, 0, 2, 0, 1, 0, 2]]\n"
     ]
    },
    {
     "data": {
      "image/png": "[encoded data removed]",
      "text/plain": [
       "<Figure size 250x250 with 1 Axes>"
      ]
     },
     "metadata": {},
     "output_type": "display_data"
    },
    {
     "name": "stdout",
     "output_type": "stream",
     "text": [
      "[[0, 0, 2, 0, 0, 0, 0], [0, 0, 1, 0, 0, 0, 0], [0, 0, 1, 0, 2, 0, 0], [1, 0, 1, 0, 1, 0, 0], [2, 0, 2, 0, 1, 0, 0], [2, 0, 2, 0, 1, 2, 2]]\n"
     ]
    },
    {
     "data": {
      "image/png": "[encoded data removed]",
      "text/plain": [
       "<Figure size 250x250 with 1 Axes>"
      ]
     },
     "metadata": {},
     "output_type": "display_data"
    },
    {
     "name": "stdout",
     "output_type": "stream",
     "text": [
      "[[0, 0, 2, 0, 0, 0, 0], [0, 0, 1, 0, 0, 0, 0], [0, 0, 1, 0, 2, 0, 0], [1, 0, 1, 0, 1, 0, 0], [2, 0, 2, 0, 1, 1, 0], [2, 0, 2, 0, 1, 2, 2]]\n"
     ]
    },
    {
     "data": {
      "image/png": "[encoded data removed]",
      "text/plain": [
       "<Figure size 250x250 with 1 Axes>"
      ]
     },
     "metadata": {},
     "output_type": "display_data"
    },
    {
     "name": "stdout",
     "output_type": "stream",
     "text": [
      "[[0, 0, 2, 0, 0, 0, 0], [0, 0, 1, 0, 2, 0, 0], [0, 0, 1, 0, 2, 0, 0], [1, 0, 1, 0, 1, 0, 0], [2, 0, 2, 0, 1, 1, 0], [2, 0, 2, 0, 1, 2, 2]]\n"
     ]
    },
    {
     "data": {
      "image/png": "[encoded data removed]",
      "text/plain": [
       "<Figure size 250x250 with 1 Axes>"
      ]
     },
     "metadata": {},
     "output_type": "display_data"
    },
    {
     "name": "stdout",
     "output_type": "stream",
     "text": [
      "[[0, 0, 2, 0, 0, 0, 0], [0, 0, 1, 0, 2, 0, 0], [0, 0, 1, 0, 2, 0, 0], [1, 0, 1, 0, 1, 1, 0], [2, 0, 2, 0, 1, 1, 0], [2, 0, 2, 0, 1, 2, 2]]\n"
     ]
    },
    {
     "data": {
      "image/png": "[encoded data removed]",
      "text/plain": [
       "<Figure size 250x250 with 1 Axes>"
      ]
     },
     "metadata": {},
     "output_type": "display_data"
    },
    {
     "name": "stdout",
     "output_type": "stream",
     "text": [
      "[[0, 0, 2, 0, 2, 0, 0], [0, 0, 1, 0, 2, 0, 0], [0, 0, 1, 0, 2, 0, 0], [1, 0, 1, 0, 1, 1, 0], [2, 0, 2, 0, 1, 1, 0], [2, 0, 2, 0, 1, 2, 2]]\n"
     ]
    },
    {
     "data": {
      "image/png": "[encoded data removed]",
      "text/plain": [
       "<Figure size 250x250 with 1 Axes>"
      ]
     },
     "metadata": {},
     "output_type": "display_data"
    },
    {
     "name": "stdout",
     "output_type": "stream",
     "text": [
      "[[0, 0, 2, 0, 2, 0, 0], [0, 0, 1, 0, 2, 0, 0], [0, 0, 1, 0, 2, 1, 0], [1, 0, 1, 0, 1, 1, 0], [2, 0, 2, 0, 1, 1, 0], [2, 0, 2, 0, 1, 2, 2]]\n"
     ]
    },
    {
     "data": {
      "image/png": "[encoded data removed]",
      "text/plain": [
       "<Figure size 250x250 with 1 Axes>"
      ]
     },
     "metadata": {},
     "output_type": "display_data"
    },
    {
     "name": "stdout",
     "output_type": "stream",
     "text": [
      "[[0, 0, 2, 0, 2, 0, 0], [0, 0, 1, 0, 2, 2, 0], [0, 0, 1, 0, 2, 1, 0], [1, 0, 1, 0, 1, 1, 0], [2, 0, 2, 0, 1, 1, 0], [2, 0, 2, 0, 1, 2, 2]]\n"
     ]
    },
    {
     "data": {
      "image/png": "[encoded data removed]",
      "text/plain": [
       "<Figure size 250x250 with 1 Axes>"
      ]
     },
     "metadata": {},
     "output_type": "display_data"
    },
    {
     "name": "stdout",
     "output_type": "stream",
     "text": [
      "[[0, 0, 2, 0, 2, 0, 0], [0, 0, 1, 0, 2, 2, 0], [1, 0, 1, 0, 2, 1, 0], [1, 0, 1, 0, 1, 1, 0], [2, 0, 2, 0, 1, 1, 0], [2, 0, 2, 0, 1, 2, 2]]\n"
     ]
    },
    {
     "data": {
      "image/png": "[encoded data removed]",
      "text/plain": [
       "<Figure size 250x250 with 1 Axes>"
      ]
     },
     "metadata": {},
     "output_type": "display_data"
    },
    {
     "name": "stdout",
     "output_type": "stream",
     "text": [
      "[[0, 0, 2, 0, 2, 0, 0], [0, 0, 1, 0, 2, 2, 0], [1, 0, 1, 0, 2, 1, 0], [1, 0, 1, 0, 1, 1, 0], [2, 0, 2, 0, 1, 1, 2], [2, 0, 2, 0, 1, 2, 2]]\n"
     ]
    },
    {
     "data": {
      "image/png": "[encoded data removed]",
      "text/plain": [
       "<Figure size 250x250 with 1 Axes>"
      ]
     },
     "metadata": {},
     "output_type": "display_data"
    },
    {
     "name": "stdout",
     "output_type": "stream",
     "text": [
      "[[0, 0, 2, 0, 2, 0, 0], [1, 0, 1, 0, 2, 2, 0], [1, 0, 1, 0, 2, 1, 0], [1, 0, 1, 0, 1, 1, 0], [2, 0, 2, 0, 1, 1, 2], [2, 0, 2, 0, 1, 2, 2]]\n"
     ]
    },
    {
     "data": {
      "image/png": "[encoded data removed]",
      "text/plain": [
       "<Figure size 250x250 with 1 Axes>"
      ]
     },
     "metadata": {},
     "output_type": "display_data"
    },
    {
     "name": "stdout",
     "output_type": "stream",
     "text": [
      "[[2, 0, 2, 0, 2, 0, 0], [1, 0, 1, 0, 2, 2, 0], [1, 0, 1, 0, 2, 1, 0], [1, 0, 1, 0, 1, 1, 0], [2, 0, 2, 0, 1, 1, 2], [2, 0, 2, 0, 1, 2, 2]]\n"
     ]
    },
    {
     "data": {
      "image/png": "[encoded data removed]",
      "text/plain": [
       "<Figure size 250x250 with 1 Axes>"
      ]
     },
     "metadata": {},
     "output_type": "display_data"
    },
    {
     "name": "stdout",
     "output_type": "stream",
     "text": [
      "[[2, 0, 2, 0, 2, 0, 0], [1, 0, 1, 0, 2, 2, 0], [1, 0, 1, 0, 2, 1, 0], [1, 0, 1, 0, 1, 1, 0], [2, 0, 2, 0, 1, 1, 2], [2, 1, 2, 0, 1, 2, 2]]\n"
     ]
    },
    {
     "data": {
      "image/png": "[encoded data removed]",
      "text/plain": [
       "<Figure size 250x250 with 1 Axes>"
      ]
     },
     "metadata": {},
     "output_type": "display_data"
    },
    {
     "name": "stdout",
     "output_type": "stream",
     "text": [
      "[[2, 0, 2, 0, 2, 2, 0], [1, 0, 1, 0, 2, 2, 0], [1, 0, 1, 0, 2, 1, 0], [1, 0, 1, 0, 1, 1, 0], [2, 0, 2, 0, 1, 1, 2], [2, 1, 2, 0, 1, 2, 2]]\n"
     ]
    },
    {
     "data": {
      "image/png": "[encoded data removed]",
      "text/plain": [
       "<Figure size 250x250 with 1 Axes>"
      ]
     },
     "metadata": {},
     "output_type": "display_data"
    },
    {
     "name": "stdout",
     "output_type": "stream",
     "text": [
      "[[2, 0, 2, 0, 2, 2, 0], [1, 0, 1, 0, 2, 2, 0], [1, 0, 1, 0, 2, 1, 0], [1, 0, 1, 0, 1, 1, 0], [2, 1, 2, 0, 1, 1, 2], [2, 1, 2, 0, 1, 2, 2]]\n"
     ]
    },
    {
     "data": {
      "image/png": "[encoded data removed]",
      "text/plain": [
       "<Figure size 250x250 with 1 Axes>"
      ]
     },
     "metadata": {},
     "output_type": "display_data"
    },
    {
     "name": "stdout",
     "output_type": "stream",
     "text": [
      "[[2, 0, 2, 0, 2, 2, 0], [1, 0, 1, 0, 2, 2, 0], [1, 0, 1, 0, 2, 1, 0], [1, 0, 1, 0, 1, 1, 0], [2, 1, 2, 0, 1, 1, 2], [2, 1, 2, 2, 1, 2, 2]]\n"
     ]
    },
    {
     "data": {
      "image/png": "[encoded data removed]",
      "text/plain": [
       "<Figure size 250x250 with 1 Axes>"
      ]
     },
     "metadata": {},
     "output_type": "display_data"
    },
    {
     "name": "stdout",
     "output_type": "stream",
     "text": [
      "[[2, 0, 2, 0, 2, 2, 0], [1, 0, 1, 0, 2, 2, 0], [1, 0, 1, 0, 2, 1, 0], [1, 0, 1, 0, 1, 1, 0], [2, 1, 2, 1, 1, 1, 2], [2, 1, 2, 2, 1, 2, 2]]\n"
     ]
    },
    {
     "data": {
      "image/png": "[encoded data removed]",
      "text/plain": [
       "<Figure size 250x250 with 1 Axes>"
      ]
     },
     "metadata": {},
     "output_type": "display_data"
    },
    {
     "name": "stdout",
     "output_type": "stream",
     "text": [
      "[[2, 0, 2, 0, 2, 2, 0], [1, 0, 1, 0, 2, 2, 0], [1, 0, 1, 0, 2, 1, 0], [1, 0, 1, 2, 1, 1, 0], [2, 1, 2, 1, 1, 1, 2], [2, 1, 2, 2, 1, 2, 2]]\n"
     ]
    }
   ],
   "source": [
    "for winner, start_player, moves_made in games:\n",
    "    if winner == 2:\n",
    "        print(start_player, \"started\")\n",
    "        playback_game(moves_made, start_player,plot_game=True, print_game=True)\n",
    "        inp = input(\"Press enter to continue, type 'q' to quit\")\n",
    "        if inp == \"q\":\n",
    "            break"
   ]
  },
  {
   "cell_type": "code",
   "execution_count": null,
   "id": "c7938b59",
   "metadata": {},
   "outputs": [],
   "source": [
    "ulrik_bots = [treebeard, gotcha, cat, gravity]"
   ]
  }
 ],
 "metadata": {
  "kernelspec": {
   "display_name": "Python 3 (ipykernel)",
   "language": "python",
   "name": "python3"
  },
  "language_info": {
   "codemirror_mode": {
    "name": "ipython",
    "version": 3
   },
   "file_extension": ".py",
   "mimetype": "text/x-python",
   "name": "python",
   "nbconvert_exporter": "python",
   "pygments_lexer": "ipython3",
   "version": "3.9.13"
  }
 },
 "nbformat": 4,
 "nbformat_minor": 5
}
