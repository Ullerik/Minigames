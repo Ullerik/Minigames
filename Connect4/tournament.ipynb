{
 "cells": [
  {
   "cell_type": "code",
   "execution_count": 42,
   "metadata": {},
   "outputs": [],
   "source": [
    "%run \"Connect4.py\"\n",
    "\n",
    "# each of these should include a list of all the bots, such as ulrik_bots = [bot1, bot2, bot3]\n",
    "%run \"Ulrik_Bots.ipynb\""
   ]
  },
  {
   "cell_type": "code",
   "execution_count": 43,
   "metadata": {},
   "outputs": [],
   "source": [
    "# idea\n",
    "# 1. create a list of all the bots by adding the bot lists together\n",
    "# 2. put each bot against each other and play 100 games, where they start 50 of them each\n",
    "# 3. for each win, the bot gets 3 points, for each draw 1 point and for each loss 0 points\n",
    "# 4. the score of each matchup is also saved on the form [bot1_wins, bot2_wins, draws]\n",
    "\n",
    "all_bots = ulrik_bots # + filip_bots"
   ]
  },
  {
   "cell_type": "code",
   "execution_count": 53,
   "metadata": {},
   "outputs": [
    {
     "name": "stdout",
     "output_type": "stream",
     "text": [
      "treebeard: 82 points.\n",
      "gotcha: 67 points.\n",
      "gravity: 30 points.\n",
      "cat: 0 points.\n"
     ]
    }
   ],
   "source": [
    "def match(bot1, bot2):\n",
    "    return simulate_games(bot1, bot2, N = 10, start_player = 0, print_time = False)[0]\n",
    "\n",
    "def print_matchup(matchup):\n",
    "    print(matchup[0].__name__ + \" vs. \" + matchup[1].__name__ + \": \" + str(matchup[2][0]) + \"-\" + str(matchup[2][1]) + \"-\" + str(matchup[2][2]))\n",
    "\n",
    "def rank_bots(all_bots):\n",
    "    matchups = []\n",
    "    for i in range(len(all_bots)):\n",
    "        for j in range(i+1, len(all_bots)):\n",
    "            matchups.append([all_bots[i], all_bots[j], [0,0,0]])\n",
    "\n",
    "    for matchup in matchups:\n",
    "        matchup[2] = match(matchup[0], matchup[1])\n",
    "\n",
    "    # we need to give each bot a score\n",
    "    # for each win, they get 3 points, for each drew 1 point and for each loss 0 points\n",
    "    \n",
    "    results = []\n",
    "    for bot in all_bots:\n",
    "        bot.score = 0\n",
    "        new_result = [0,0,0]\n",
    "        for matchup in matchups:\n",
    "            if matchup[0] == bot:\n",
    "                bot.score += matchup[2][0]*3 + matchup[2][2]\n",
    "                new_result[0] += 1\n",
    "            elif matchup[1] == bot:\n",
    "                bot.score += matchup[2][1]*3 + matchup[2][2]\n",
    "                new_result[1] += 1\n",
    "            else:\n",
    "                new_result[2] += 1\n",
    "        results.append(new_result)\n",
    "\n",
    "    sorted_bots = sorted(all_bots, key = lambda x: x.score, reverse = True)\n",
    "    sorted_results = sorted(results, key = lambda x: x[0]*3 + x[2], reverse = True)\n",
    "    for bot in sorted_bots:\n",
    "        print(bot.__name__ + \": \" + str(bot.score) + \" points.\")\n",
    "\n",
    "rank_bots(all_bots)"
   ]
  },
  {
   "cell_type": "code",
   "execution_count": null,
   "metadata": {},
   "outputs": [],
   "source": []
  },
  {
   "cell_type": "code",
   "execution_count": null,
   "metadata": {},
   "outputs": [],
   "source": []
  },
  {
   "cell_type": "code",
   "execution_count": null,
   "metadata": {},
   "outputs": [],
   "source": []
  },
  {
   "cell_type": "code",
   "execution_count": null,
   "metadata": {},
   "outputs": [],
   "source": []
  }
 ],
 "metadata": {
  "kernelspec": {
   "display_name": "base",
   "language": "python",
   "name": "python3"
  },
  "language_info": {
   "codemirror_mode": {
    "name": "ipython",
    "version": 3
   },
   "file_extension": ".py",
   "mimetype": "text/x-python",
   "name": "python",
   "nbconvert_exporter": "python",
   "pygments_lexer": "ipython3",
   "version": "3.9.13"
  }
 },
 "nbformat": 4,
 "nbformat_minor": 2
}
